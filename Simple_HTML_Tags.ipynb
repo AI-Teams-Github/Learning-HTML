{
 "cells": [
  {
   "cell_type": "markdown",
   "id": "7f94b964-ec07-494a-be9a-07a79b9975a5",
   "metadata": {},
   "source": [
    "# Simple HTML tags"
   ]
  },
  {
   "cell_type": "markdown",
   "id": "8b6cd2b1-c589-480f-a1bd-293a8abd5e4d",
   "metadata": {},
   "source": [
    "There are many tags available in HTML. Here you will learn about common tags that you'll use as a developer."
   ]
  },
  {
   "cell_type": "markdown",
   "id": "5cfaebfa-2f74-4c48-9579-4d434b58352f",
   "metadata": {},
   "source": [
    "## **Headings**"
   ]
  },
  {
   "cell_type": "markdown",
   "id": "05e458d8-98b3-4df7-b9a6-cfb1065eb750",
   "metadata": {},
   "source": [
    "Headings allow you to display titles and subtitles on your webpage."
   ]
  },
  {
   "cell_type": "markdown",
   "id": "b5997162-582f-4308-a03f-59b873f8cf4c",
   "metadata": {},
   "source": [
    "```html\n",
    "<body>\n",
    "    <h1>Heading 1</h1>\n",
    "    <h2>Heading 2</h2>\n",
    "    <h3>Heading 3</h3>\n",
    "    <h4>Heading 4</h4>\n",
    "    <h5>Heading 5</h5>\n",
    "    <h6>Heading 6</h6>\n",
    "</body>\n",
    "```"
   ]
  },
  {
   "cell_type": "markdown",
   "id": "e78d3ac4-832a-454a-b19d-d7acad8472f7",
   "metadata": {},
   "source": [
    "The following displays in the web browser:"
   ]
  },
  {
   "cell_type": "markdown",
   "id": "2f4ac8fd-fb56-4188-8026-6a2a0a7f1407",
   "metadata": {},
   "source": [
    "<body>\n",
    "    <h1>Heading 1</h1>\n",
    "    <h2>Heading 2</h2>\n",
    "    <h3>Heading 3</h3>\n",
    "    <h4>Heading 4</h4>\n",
    "    <h5>Heading 5</h5>\n",
    "    <h6>Heading 6</h6>\n",
    "</body>"
   ]
  },
  {
   "cell_type": "markdown",
   "id": "3cd90d12-1f21-4b98-b26c-780d350a23a4",
   "metadata": {},
   "source": [
    "## Paragraphs"
   ]
  },
  {
   "cell_type": "markdown",
   "id": "e97a3294-3f34-487c-ac92-5ac86179d509",
   "metadata": {},
   "source": [
    "Paragraphs contain text content."
   ]
  },
  {
   "cell_type": "markdown",
   "id": "d9897de4-a540-4270-891b-73633714c018",
   "metadata": {},
   "source": [
    "```html\n",
    "<p>\n",
    "    This paragraph \n",
    "    contains a lot of lines\n",
    "    but they are ignored.\n",
    "</p>\n",
    "```"
   ]
  },
  {
   "cell_type": "markdown",
   "id": "0823220e-5d39-471d-a418-e4c554ced158",
   "metadata": {},
   "source": [
    "The following displays in the web browser:"
   ]
  },
  {
   "cell_type": "markdown",
   "id": "989cd9f0-7661-4015-bc53-f2fb210cb604",
   "metadata": {},
   "source": [
    "<p>\n",
    "    This paragraph \n",
    "    contains a lot of lines\n",
    "    but they are ignored.\n",
    "</p>"
   ]
  },
  {
   "cell_type": "markdown",
   "id": "bfec1e49-61f4-4c49-8df3-9bf26390755c",
   "metadata": {},
   "source": [
    "**Note** that putting content on a new line is ignored by the web browser."
   ]
  },
  {
   "cell_type": "markdown",
   "id": "29ea141e-f2ae-4577-921f-d789ee429f9c",
   "metadata": {},
   "source": [
    "## Line Breaks"
   ]
  },
  {
   "cell_type": "markdown",
   "id": "8c7435ff-838b-47d9-a0e8-e53ad3a1a799",
   "metadata": {},
   "source": [
    "As you've learned, line breaks in the paragraph tag line are ignored by HTML. Instead, they must be specified using the `<br>` tag. The `<br>` tag does not need a closing tag."
   ]
  },
  {
   "cell_type": "markdown",
   "id": "56272c34-c3c9-488a-aa62-f95f2b597272",
   "metadata": {},
   "source": [
    "```html\n",
    "<p>\n",
    "    This paragraph<br>\n",
    "    contains a lot of lines<br>\n",
    "    and they are displayed.\n",
    "</p>\n",
    "```"
   ]
  },
  {
   "cell_type": "markdown",
   "id": "72175079-6016-4c3b-b09d-67efa4ca655b",
   "metadata": {},
   "source": [
    "The following displays in the web browser: "
   ]
  },
  {
   "cell_type": "markdown",
   "id": "7f18be9a-5da5-47e2-b2de-41bf3495bdb6",
   "metadata": {},
   "source": [
    "<p>\n",
    "    This paragraph<br>\n",
    "    contains a lot of lines<br>\n",
    "    and they are displayed.\n",
    "</p>"
   ]
  },
  {
   "cell_type": "markdown",
   "id": "b2537cb9-5ccc-4416-80b4-620d3cc1f830",
   "metadata": {},
   "source": [
    "## Strong"
   ]
  },
  {
   "cell_type": "markdown",
   "id": "9de3a863-8604-4123-bbe7-57b72d9fd1c6",
   "metadata": {},
   "source": [
    "Strong tags can be used to indicate that a range of text has importance."
   ]
  },
  {
   "cell_type": "markdown",
   "id": "80e96766-310b-41f6-ac46-ad88d03aa8d1",
   "metadata": {},
   "source": [
    "```html\n",
    "<p>\n",
    "    No matter how much the dog barks: <strong>don't feed him chocolate</strong>.\n",
    "</p>\n",
    "```"
   ]
  },
  {
   "cell_type": "markdown",
   "id": "93b71929-2a14-4166-bb0f-e48247bbaada",
   "metadata": {},
   "source": [
    "The following displays in the web browser:"
   ]
  },
  {
   "cell_type": "markdown",
   "id": "4db6e600-fb23-40de-a2cc-326dd0fcfd3b",
   "metadata": {},
   "source": [
    "<p>\n",
    "    No matter how much the dog barks: <strong>don't feed him chocolate</strong>.\n",
    "</p>"
   ]
  },
  {
   "cell_type": "markdown",
   "id": "70db2634-bacc-490b-b3c6-74bc85708c0a",
   "metadata": {},
   "source": [
    "## Bold"
   ]
  },
  {
   "cell_type": "markdown",
   "id": "e96b52ad-1c91-48e5-8149-23f869ac4883",
   "metadata": {},
   "source": [
    "Bold tags can be used to draw the reader's attention to a range of text."
   ]
  },
  {
   "cell_type": "markdown",
   "id": "db9eb1a7-ea72-44ef-ba45-fdc1e92ceea9",
   "metadata": {},
   "source": [
    "```html\n",
    "<p>\n",
    "    The primary colors are <b>red</b>, <b>yellow</b> and <b>blue</b>.\n",
    "</p>\n",
    "```"
   ]
  },
  {
   "cell_type": "markdown",
   "id": "19e8492f-0505-447a-afdb-b0ed77661992",
   "metadata": {},
   "source": [
    "The following displays in the web browser: "
   ]
  },
  {
   "cell_type": "markdown",
   "id": "4c0acfdc-ead4-4968-8f68-d6348d66bd65",
   "metadata": {},
   "source": [
    "<p>\n",
    "    The primary colors are <b>red</b>, <b>yellow</b> and <b>blue</b>.\n",
    "</p>"
   ]
  },
  {
   "cell_type": "markdown",
   "id": "78cd56a9-52b4-4de6-a37f-973d91230e27",
   "metadata": {},
   "source": [
    "Bold tags should be used to draw attention but not to indicate that something is more important. Consider the following example:"
   ]
  },
  {
   "cell_type": "markdown",
   "id": "984cf47e-523a-4850-903c-9d76b7f7913b",
   "metadata": {},
   "source": [
    "```html\n",
    "The three core technologies of the internet are <b>HTML</b>, <b>CSS</b> and <b>Javascript</b>.\n",
    "```"
   ]
  },
  {
   "cell_type": "markdown",
   "id": "96223d93-4c3f-4d60-b5bd-e18144f4e801",
   "metadata": {},
   "source": [
    "The following displays in the web browser:"
   ]
  },
  {
   "cell_type": "markdown",
   "id": "7fba2c2b-539c-4a23-8a38-58fcc6d70c9c",
   "metadata": {},
   "source": [
    "The three core technologies of the internet are <b>HTML</b>, <b>CSS</b> and <b>Javascript</b>."
   ]
  },
  {
   "cell_type": "markdown",
   "id": "3504cc3d-cfc4-488e-b479-26b77da867f1",
   "metadata": {},
   "source": [
    "## Emphasis"
   ]
  },
  {
   "cell_type": "markdown",
   "id": "72d49dbc-46fb-41fe-bfaa-48bfbded8a54",
   "metadata": {},
   "source": [
    "Emphasis tags can be used to add emphasis to text."
   ]
  },
  {
   "cell_type": "markdown",
   "id": "1bd34048-7b69-42ea-92ca-08949b6e42e7",
   "metadata": {},
   "source": [
    "```html\n",
    "<p>\r\n",
    "   Wake up <em>now</em>!\r\n",
    "</p>\n",
    "```"
   ]
  },
  {
   "cell_type": "markdown",
   "id": "459c891c-5b60-472e-81da-caf772161815",
   "metadata": {},
   "source": [
    "The following displays in the web browser:"
   ]
  },
  {
   "cell_type": "markdown",
   "id": "fa1b94eb-aa68-490e-a62d-8dfd93925066",
   "metadata": {},
   "source": [
    "<p>\n",
    "   Wake up <em>now</em>!\n",
    "</p>"
   ]
  },
  {
   "cell_type": "markdown",
   "id": "19f7b719-ae0f-489e-8079-becd5083d54d",
   "metadata": {},
   "source": [
    "## Italics"
   ]
  },
  {
   "cell_type": "markdown",
   "id": "e9b8ad05-7a9d-4aaf-8696-f97e5199edcb",
   "metadata": {},
   "source": [
    "Italics tags can be used to offset a range of text."
   ]
  },
  {
   "cell_type": "markdown",
   "id": "e0be4050-f178-4e37-ab05-ca395419f0e9",
   "metadata": {},
   "source": [
    "```html\n",
    "<p>\r\n",
    "   The term <i>HTML</i> stands for HyperText Markup Language.\r\n",
    "</p>\n",
    "```"
   ]
  },
  {
   "cell_type": "markdown",
   "id": "f8470b3f-db9b-4c02-a583-0737ae2f9ca4",
   "metadata": {},
   "source": [
    "The following displays in the web browser: "
   ]
  },
  {
   "cell_type": "markdown",
   "id": "5d363e69-6ff4-4461-b9d9-c6858a1eecf3",
   "metadata": {},
   "source": [
    "The term <i>HTML</i> stands for HyperText Markup Language."
   ]
  },
  {
   "cell_type": "markdown",
   "id": "acee8f50-821a-4353-be50-af7e5d26b25f",
   "metadata": {},
   "source": [
    "## Emphasis vs. Italics"
   ]
  },
  {
   "cell_type": "markdown",
   "id": "5018c37c-1cea-4850-a05c-5b3728079048",
   "metadata": {},
   "source": [
    "By default both tags will have the same visual effect in the web browser. The only difference is the meaning."
   ]
  },
  {
   "cell_type": "markdown",
   "id": "9ce6c023-e751-49ce-8a8c-d9357ed695a9",
   "metadata": {},
   "source": [
    "Emphasis tags stress the text contained in them. Let's explore the following example:"
   ]
  },
  {
   "cell_type": "markdown",
   "id": "b557056b-f4e6-4732-bb48-2c047b6f6c8c",
   "metadata": {},
   "source": [
    "```html\n",
    "I <em>really</em> want ice cream.\n",
    "```"
   ]
  },
  {
   "cell_type": "markdown",
   "id": "629a4607-a14c-474f-95e6-4d6f07692931",
   "metadata": {},
   "source": [
    "The following displays in the web browser:"
   ]
  },
  {
   "cell_type": "markdown",
   "id": "cd9d05b5-ae50-4162-a3cf-541f0b55b5df",
   "metadata": {},
   "source": [
    "I <em>really</em> want ice cream."
   ]
  },
  {
   "cell_type": "markdown",
   "id": "9e148030-6276-4e06-ad5c-3c8c668c0d5a",
   "metadata": {},
   "source": [
    "Italics represent off-set text and should be used for technical terms, titles, a thought or a phrase from another language, for example:"
   ]
  },
  {
   "cell_type": "markdown",
   "id": "f67e6fc4-dbcc-4287-87fa-b1443487031a",
   "metadata": {},
   "source": [
    "```html\n",
    "My favourite book is <i>Dracula</i>.\n",
    "```"
   ]
  },
  {
   "cell_type": "markdown",
   "id": "1415f831-8b58-4296-b06c-7fd4074fafbd",
   "metadata": {},
   "source": [
    "The following displays in the web browser:"
   ]
  },
  {
   "cell_type": "markdown",
   "id": "dad8cc5b-f3a2-4852-b83c-d1c5d7552fac",
   "metadata": {},
   "source": [
    "My favourite book is <i>Dracula</i>"
   ]
  },
  {
   "cell_type": "markdown",
   "id": "8eb00431-925f-42f4-843c-3ad44e336d06",
   "metadata": {},
   "source": [
    "Screen readers will not announce any difference if an italics tag is used."
   ]
  },
  {
   "cell_type": "markdown",
   "id": "7c7595b1-b8c6-463c-99a2-10eb26732252",
   "metadata": {},
   "source": [
    "## Lists"
   ]
  },
  {
   "cell_type": "markdown",
   "id": "10393dbb-36f7-4938-808b-b9c687da52f5",
   "metadata": {},
   "source": [
    "You can add lists to your web pages. There are two types of lists in HTML."
   ]
  },
  {
   "cell_type": "markdown",
   "id": "56cb9286-9d78-422b-9b50-25d078cfdf4d",
   "metadata": {},
   "source": [
    "Lists can be unordered using the `<ul>` tag. List items are specified using the `<li>` tag, for example:"
   ]
  },
  {
   "cell_type": "markdown",
   "id": "0df6425e-1a1d-4cca-89bb-01646962908c",
   "metadata": {},
   "source": [
    "```html\n",
    "<ul>\r\n",
    "   <li>Tea</li>\r\n",
    "   <li>Sugar</li>\r\n",
    "   <li>Milk</li>\r\n",
    "</ul>\n",
    "```"
   ]
  },
  {
   "cell_type": "markdown",
   "id": "8c84e56f-770d-4270-8bd5-8f3b8fda247d",
   "metadata": {},
   "source": [
    "This displays in the web browser as:"
   ]
  },
  {
   "cell_type": "markdown",
   "id": "cf35a1a1-eb58-4aa4-b381-1be92302bf9e",
   "metadata": {},
   "source": [
    "<ul>\n",
    "   <li>Tea</li>\n",
    "   <li>Sugar</li>\n",
    "   <li>Milk</li>\n",
    "</ul>"
   ]
  },
  {
   "cell_type": "markdown",
   "id": "3457d8e7-9b7c-468b-b39d-9ed5b02cedcb",
   "metadata": {},
   "source": [
    "Lists can also be ordered using the `<ol>` tag. Again, list items are specified using the `<li>` tag."
   ]
  },
  {
   "cell_type": "markdown",
   "id": "0025cdef-c3d8-4fa4-8033-9f58b11a1089",
   "metadata": {},
   "source": [
    "```html\n",
    "<ol>\r\n",
    "   <li>Rocky</li>\r\n",
    "   <li>Rocky II</li>\r\n",
    "   <li>Rocky III</li>\r\n",
    "</ol>\n",
    "```"
   ]
  },
  {
   "cell_type": "markdown",
   "id": "fe665f65-0bd5-4ee8-8420-77f6b9c29154",
   "metadata": {},
   "source": [
    "This displays as the following in the web browser."
   ]
  },
  {
   "cell_type": "markdown",
   "id": "2ea5c279-6f3d-4584-892e-fd2f3f58c9f3",
   "metadata": {},
   "source": [
    "<ol>\n",
    "   <li>Rocky</li>\n",
    "   <li>Rocky II</li>\n",
    "   <li>Rocky III</li>\n",
    "</ol>"
   ]
  },
  {
   "cell_type": "markdown",
   "id": "24db2fea-564b-445b-a0e9-3602c1b01c56",
   "metadata": {},
   "source": [
    "## Div tags"
   ]
  },
  {
   "cell_type": "markdown",
   "id": "81e23481-53e7-4da9-88ec-76e1e9ac1c55",
   "metadata": {},
   "source": [
    "A `<div>` tag defines a content division in a HTML document. It acts as a generic container and has no effect on the content unless it is styled by CSS."
   ]
  },
  {
   "cell_type": "markdown",
   "id": "be203de6-4ee7-4cc7-9509-b9b052375040",
   "metadata": {},
   "source": [
    "The following example shows a `<div>` element that contains a paragraph element:"
   ]
  },
  {
   "cell_type": "markdown",
   "id": "dc8fc01d-50ab-41ec-95b0-8324a041b912",
   "metadata": {},
   "source": [
    "```html\n",
    "<div>\r\n",
    "   <p>This is a paragraph inside a div</p>\r\n",
    "</div>\n",
    "```"
   ]
  },
  {
   "cell_type": "markdown",
   "id": "6a61d45e-f17b-45fd-b9fd-778c867c4148",
   "metadata": {},
   "source": [
    "This displays as the following in the web browser."
   ]
  },
  {
   "cell_type": "markdown",
   "id": "e2d947ca-7572-4691-816c-36f4f4f31839",
   "metadata": {},
   "source": [
    "<div>\n",
    "   <p>This is a paragraph inside a div</p>\n",
    "</div>"
   ]
  },
  {
   "cell_type": "markdown",
   "id": "4cf0d841-6bd6-489b-b431-58e9993ef870",
   "metadata": {},
   "source": [
    "It can be nested inside other elements, for example:"
   ]
  },
  {
   "cell_type": "markdown",
   "id": "7043d183-0bca-45ac-ba65-fc5da7519302",
   "metadata": {},
   "source": [
    "```html\n",
    "<div>\r\n",
    "   <div>\r\n",
    "      <p>This is a paragraph inside a div that’s inside another div</p>\r\n",
    "   </div>\r\n",
    "</div>\n",
    "```"
   ]
  },
  {
   "cell_type": "markdown",
   "id": "39441e36-640e-4a0d-b9ae-9cc33bb9b425",
   "metadata": {},
   "source": [
    "This displays in the web browser as:"
   ]
  },
  {
   "cell_type": "markdown",
   "id": "c234228b-e4cf-4991-9ffa-18c0d7177672",
   "metadata": {},
   "source": [
    "<div>\n",
    "   <div>\n",
    "      <p>This is a paragraph inside a div that’s inside another div</p>\n",
    "   </div>\n",
    "</div>"
   ]
  },
  {
   "cell_type": "markdown",
   "id": "865599c7-62bd-4c49-936f-61a2870a2875",
   "metadata": {},
   "source": [
    "## Comments"
   ]
  },
  {
   "cell_type": "markdown",
   "id": "60be73d8-dd5e-4988-ae91-60cec79eabd2",
   "metadata": {},
   "source": [
    "If you want to leave a comment in the code for other developers, it can be added as:"
   ]
  },
  {
   "cell_type": "markdown",
   "id": "002afd6d-5638-43ac-90c4-1409ae0c6ba3",
   "metadata": {},
   "source": [
    "`<!-- This is a comment -->`"
   ]
  },
  {
   "cell_type": "markdown",
   "id": "a336740c-fd83-4049-91c3-febdf18bff9a",
   "metadata": {},
   "source": [
    "The comment will not be displayed in the web browser."
   ]
  }
 ],
 "metadata": {
  "kernelspec": {
   "display_name": "Python 3 (ipykernel)",
   "language": "python",
   "name": "python3"
  },
  "language_info": {
   "codemirror_mode": {
    "name": "ipython",
    "version": 3
   },
   "file_extension": ".py",
   "mimetype": "text/x-python",
   "name": "python",
   "nbconvert_exporter": "python",
   "pygments_lexer": "ipython3",
   "version": "3.11.4"
  }
 },
 "nbformat": 4,
 "nbformat_minor": 5
}
